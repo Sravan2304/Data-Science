{
 "cells": [
  {
   "cell_type": "markdown",
   "metadata": {},
   "source": [
    "# TESLA Stock Prediction "
   ]
  },
  {
   "cell_type": "markdown",
   "metadata": {},
   "source": [
    "## Data Pre processing "
   ]
  },
  {
   "cell_type": "markdown",
   "metadata": {},
   "source": [
    "### Loading the dataset"
   ]
  },
  {
   "cell_type": "code",
   "execution_count": 1,
   "metadata": {},
   "outputs": [],
   "source": [
    "import pandas as pd\n",
    "import numpy as np"
   ]
  },
  {
   "cell_type": "code",
   "execution_count": 2,
   "metadata": {},
   "outputs": [
    {
     "data": {
      "text/html": [
       "<div>\n",
       "<style scoped>\n",
       "    .dataframe tbody tr th:only-of-type {\n",
       "        vertical-align: middle;\n",
       "    }\n",
       "\n",
       "    .dataframe tbody tr th {\n",
       "        vertical-align: top;\n",
       "    }\n",
       "\n",
       "    .dataframe thead th {\n",
       "        text-align: right;\n",
       "    }\n",
       "</style>\n",
       "<table border=\"1\" class=\"dataframe\">\n",
       "  <thead>\n",
       "    <tr style=\"text-align: right;\">\n",
       "      <th></th>\n",
       "      <th>Date</th>\n",
       "      <th>Open</th>\n",
       "      <th>High</th>\n",
       "      <th>Low</th>\n",
       "      <th>Close</th>\n",
       "      <th>Adj Close</th>\n",
       "      <th>Volume</th>\n",
       "    </tr>\n",
       "  </thead>\n",
       "  <tbody>\n",
       "    <tr>\n",
       "      <th>0</th>\n",
       "      <td>30-06-2010</td>\n",
       "      <td>5.158000</td>\n",
       "      <td>6.084000</td>\n",
       "      <td>4.660000</td>\n",
       "      <td>4.766000</td>\n",
       "      <td>4.766000</td>\n",
       "      <td>85935500</td>\n",
       "    </tr>\n",
       "    <tr>\n",
       "      <th>1</th>\n",
       "      <td>01-07-2010</td>\n",
       "      <td>5.000000</td>\n",
       "      <td>5.184000</td>\n",
       "      <td>4.054000</td>\n",
       "      <td>4.392000</td>\n",
       "      <td>4.392000</td>\n",
       "      <td>41094000</td>\n",
       "    </tr>\n",
       "    <tr>\n",
       "      <th>2</th>\n",
       "      <td>02-07-2010</td>\n",
       "      <td>4.600000</td>\n",
       "      <td>4.620000</td>\n",
       "      <td>3.742000</td>\n",
       "      <td>3.840000</td>\n",
       "      <td>3.840000</td>\n",
       "      <td>25699000</td>\n",
       "    </tr>\n",
       "    <tr>\n",
       "      <th>3</th>\n",
       "      <td>06-07-2010</td>\n",
       "      <td>4.000000</td>\n",
       "      <td>4.000000</td>\n",
       "      <td>3.166000</td>\n",
       "      <td>3.222000</td>\n",
       "      <td>3.222000</td>\n",
       "      <td>34334500</td>\n",
       "    </tr>\n",
       "    <tr>\n",
       "      <th>4</th>\n",
       "      <td>07-07-2010</td>\n",
       "      <td>3.280000</td>\n",
       "      <td>3.326000</td>\n",
       "      <td>2.996000</td>\n",
       "      <td>3.160000</td>\n",
       "      <td>3.160000</td>\n",
       "      <td>34608500</td>\n",
       "    </tr>\n",
       "    <tr>\n",
       "      <th>...</th>\n",
       "      <td>...</td>\n",
       "      <td>...</td>\n",
       "      <td>...</td>\n",
       "      <td>...</td>\n",
       "      <td>...</td>\n",
       "      <td>...</td>\n",
       "      <td>...</td>\n",
       "    </tr>\n",
       "    <tr>\n",
       "      <th>2574</th>\n",
       "      <td>21-09-2020</td>\n",
       "      <td>453.130005</td>\n",
       "      <td>455.679993</td>\n",
       "      <td>407.070007</td>\n",
       "      <td>449.390015</td>\n",
       "      <td>449.390015</td>\n",
       "      <td>109476800</td>\n",
       "    </tr>\n",
       "    <tr>\n",
       "      <th>2575</th>\n",
       "      <td>22-09-2020</td>\n",
       "      <td>429.600006</td>\n",
       "      <td>437.760010</td>\n",
       "      <td>417.600006</td>\n",
       "      <td>424.230011</td>\n",
       "      <td>424.230011</td>\n",
       "      <td>79580800</td>\n",
       "    </tr>\n",
       "    <tr>\n",
       "      <th>2576</th>\n",
       "      <td>23-09-2020</td>\n",
       "      <td>405.160004</td>\n",
       "      <td>412.149994</td>\n",
       "      <td>375.880005</td>\n",
       "      <td>380.359985</td>\n",
       "      <td>380.359985</td>\n",
       "      <td>95074200</td>\n",
       "    </tr>\n",
       "    <tr>\n",
       "      <th>2577</th>\n",
       "      <td>24-09-2020</td>\n",
       "      <td>363.799988</td>\n",
       "      <td>399.500000</td>\n",
       "      <td>351.299988</td>\n",
       "      <td>387.790009</td>\n",
       "      <td>387.790009</td>\n",
       "      <td>96561100</td>\n",
       "    </tr>\n",
       "    <tr>\n",
       "      <th>2578</th>\n",
       "      <td>25-09-2020</td>\n",
       "      <td>393.470001</td>\n",
       "      <td>408.730011</td>\n",
       "      <td>391.299988</td>\n",
       "      <td>407.339996</td>\n",
       "      <td>407.339996</td>\n",
       "      <td>67068400</td>\n",
       "    </tr>\n",
       "  </tbody>\n",
       "</table>\n",
       "<p>2579 rows × 7 columns</p>\n",
       "</div>"
      ],
      "text/plain": [
       "            Date        Open        High         Low       Close   Adj Close  \\\n",
       "0     30-06-2010    5.158000    6.084000    4.660000    4.766000    4.766000   \n",
       "1     01-07-2010    5.000000    5.184000    4.054000    4.392000    4.392000   \n",
       "2     02-07-2010    4.600000    4.620000    3.742000    3.840000    3.840000   \n",
       "3     06-07-2010    4.000000    4.000000    3.166000    3.222000    3.222000   \n",
       "4     07-07-2010    3.280000    3.326000    2.996000    3.160000    3.160000   \n",
       "...          ...         ...         ...         ...         ...         ...   \n",
       "2574  21-09-2020  453.130005  455.679993  407.070007  449.390015  449.390015   \n",
       "2575  22-09-2020  429.600006  437.760010  417.600006  424.230011  424.230011   \n",
       "2576  23-09-2020  405.160004  412.149994  375.880005  380.359985  380.359985   \n",
       "2577  24-09-2020  363.799988  399.500000  351.299988  387.790009  387.790009   \n",
       "2578  25-09-2020  393.470001  408.730011  391.299988  407.339996  407.339996   \n",
       "\n",
       "         Volume  \n",
       "0      85935500  \n",
       "1      41094000  \n",
       "2      25699000  \n",
       "3      34334500  \n",
       "4      34608500  \n",
       "...         ...  \n",
       "2574  109476800  \n",
       "2575   79580800  \n",
       "2576   95074200  \n",
       "2577   96561100  \n",
       "2578   67068400  \n",
       "\n",
       "[2579 rows x 7 columns]"
      ]
     },
     "execution_count": 2,
     "metadata": {},
     "output_type": "execute_result"
    }
   ],
   "source": [
    "df = pd.read_csv('TESLA.csv')\n",
    "df"
   ]
  },
  {
   "cell_type": "code",
   "execution_count": 3,
   "metadata": {},
   "outputs": [
    {
     "data": {
      "text/plain": [
       "(2579, 7)"
      ]
     },
     "execution_count": 3,
     "metadata": {},
     "output_type": "execute_result"
    }
   ],
   "source": [
    "df.shape"
   ]
  },
  {
   "cell_type": "code",
   "execution_count": 4,
   "metadata": {},
   "outputs": [
    {
     "data": {
      "text/plain": [
       "['Date', 'Open', 'High', 'Low', 'Close', 'Adj Close', 'Volume']"
      ]
     },
     "execution_count": 4,
     "metadata": {},
     "output_type": "execute_result"
    }
   ],
   "source": [
    "list(df.columns)"
   ]
  },
  {
   "cell_type": "code",
   "execution_count": 5,
   "metadata": {},
   "outputs": [
    {
     "data": {
      "text/plain": [
       "Date          0\n",
       "Open          0\n",
       "High          3\n",
       "Low           1\n",
       "Close        16\n",
       "Adj Close     0\n",
       "Volume        0\n",
       "dtype: int64"
      ]
     },
     "execution_count": 5,
     "metadata": {},
     "output_type": "execute_result"
    }
   ],
   "source": [
    "# checking for null values\n",
    "df.isnull().sum()"
   ]
  },
  {
   "cell_type": "markdown",
   "metadata": {},
   "source": [
    "### Handling the missing data"
   ]
  },
  {
   "cell_type": "code",
   "execution_count": 6,
   "metadata": {},
   "outputs": [],
   "source": [
    "df1 = df.copy()"
   ]
  },
  {
   "cell_type": "markdown",
   "metadata": {},
   "source": [
    "### Using forward fill(ffill) and backward fill(bfill) methods to handle the missing values"
   ]
  },
  {
   "cell_type": "code",
   "execution_count": 7,
   "metadata": {},
   "outputs": [
    {
     "data": {
      "text/html": [
       "<div>\n",
       "<style scoped>\n",
       "    .dataframe tbody tr th:only-of-type {\n",
       "        vertical-align: middle;\n",
       "    }\n",
       "\n",
       "    .dataframe tbody tr th {\n",
       "        vertical-align: top;\n",
       "    }\n",
       "\n",
       "    .dataframe thead th {\n",
       "        text-align: right;\n",
       "    }\n",
       "</style>\n",
       "<table border=\"1\" class=\"dataframe\">\n",
       "  <thead>\n",
       "    <tr style=\"text-align: right;\">\n",
       "      <th></th>\n",
       "      <th>Date</th>\n",
       "      <th>Open</th>\n",
       "      <th>High</th>\n",
       "      <th>Low</th>\n",
       "      <th>Close</th>\n",
       "      <th>Adj Close</th>\n",
       "      <th>Volume</th>\n",
       "    </tr>\n",
       "  </thead>\n",
       "  <tbody>\n",
       "    <tr>\n",
       "      <th>0</th>\n",
       "      <td>30-06-2010</td>\n",
       "      <td>5.158</td>\n",
       "      <td>6.084</td>\n",
       "      <td>4.660</td>\n",
       "      <td>4.766</td>\n",
       "      <td>4.766</td>\n",
       "      <td>85935500</td>\n",
       "    </tr>\n",
       "    <tr>\n",
       "      <th>1</th>\n",
       "      <td>01-07-2010</td>\n",
       "      <td>5.000</td>\n",
       "      <td>5.184</td>\n",
       "      <td>4.054</td>\n",
       "      <td>4.392</td>\n",
       "      <td>4.392</td>\n",
       "      <td>41094000</td>\n",
       "    </tr>\n",
       "    <tr>\n",
       "      <th>2</th>\n",
       "      <td>02-07-2010</td>\n",
       "      <td>4.600</td>\n",
       "      <td>4.620</td>\n",
       "      <td>3.742</td>\n",
       "      <td>3.840</td>\n",
       "      <td>3.840</td>\n",
       "      <td>25699000</td>\n",
       "    </tr>\n",
       "    <tr>\n",
       "      <th>3</th>\n",
       "      <td>06-07-2010</td>\n",
       "      <td>4.000</td>\n",
       "      <td>4.000</td>\n",
       "      <td>3.166</td>\n",
       "      <td>3.222</td>\n",
       "      <td>3.222</td>\n",
       "      <td>34334500</td>\n",
       "    </tr>\n",
       "    <tr>\n",
       "      <th>4</th>\n",
       "      <td>07-07-2010</td>\n",
       "      <td>3.280</td>\n",
       "      <td>3.326</td>\n",
       "      <td>2.996</td>\n",
       "      <td>3.160</td>\n",
       "      <td>3.160</td>\n",
       "      <td>34608500</td>\n",
       "    </tr>\n",
       "  </tbody>\n",
       "</table>\n",
       "</div>"
      ],
      "text/plain": [
       "         Date   Open   High    Low  Close  Adj Close    Volume\n",
       "0  30-06-2010  5.158  6.084  4.660  4.766      4.766  85935500\n",
       "1  01-07-2010  5.000  5.184  4.054  4.392      4.392  41094000\n",
       "2  02-07-2010  4.600  4.620  3.742  3.840      3.840  25699000\n",
       "3  06-07-2010  4.000  4.000  3.166  3.222      3.222  34334500\n",
       "4  07-07-2010  3.280  3.326  2.996  3.160      3.160  34608500"
      ]
     },
     "execution_count": 7,
     "metadata": {},
     "output_type": "execute_result"
    }
   ],
   "source": [
    "df1['Close'].fillna(method = 'ffill',inplace = True)\n",
    "df1.head(5)"
   ]
  },
  {
   "cell_type": "code",
   "execution_count": 8,
   "metadata": {},
   "outputs": [
    {
     "data": {
      "text/html": [
       "<div>\n",
       "<style scoped>\n",
       "    .dataframe tbody tr th:only-of-type {\n",
       "        vertical-align: middle;\n",
       "    }\n",
       "\n",
       "    .dataframe tbody tr th {\n",
       "        vertical-align: top;\n",
       "    }\n",
       "\n",
       "    .dataframe thead th {\n",
       "        text-align: right;\n",
       "    }\n",
       "</style>\n",
       "<table border=\"1\" class=\"dataframe\">\n",
       "  <thead>\n",
       "    <tr style=\"text-align: right;\">\n",
       "      <th></th>\n",
       "      <th>Date</th>\n",
       "      <th>Open</th>\n",
       "      <th>High</th>\n",
       "      <th>Low</th>\n",
       "      <th>Close</th>\n",
       "      <th>Adj Close</th>\n",
       "      <th>Volume</th>\n",
       "    </tr>\n",
       "  </thead>\n",
       "  <tbody>\n",
       "    <tr>\n",
       "      <th>0</th>\n",
       "      <td>30-06-2010</td>\n",
       "      <td>5.158</td>\n",
       "      <td>6.084</td>\n",
       "      <td>4.660</td>\n",
       "      <td>4.766</td>\n",
       "      <td>4.766</td>\n",
       "      <td>85935500</td>\n",
       "    </tr>\n",
       "    <tr>\n",
       "      <th>1</th>\n",
       "      <td>01-07-2010</td>\n",
       "      <td>5.000</td>\n",
       "      <td>5.184</td>\n",
       "      <td>4.054</td>\n",
       "      <td>4.392</td>\n",
       "      <td>4.392</td>\n",
       "      <td>41094000</td>\n",
       "    </tr>\n",
       "    <tr>\n",
       "      <th>2</th>\n",
       "      <td>02-07-2010</td>\n",
       "      <td>4.600</td>\n",
       "      <td>4.620</td>\n",
       "      <td>3.742</td>\n",
       "      <td>3.840</td>\n",
       "      <td>3.840</td>\n",
       "      <td>25699000</td>\n",
       "    </tr>\n",
       "    <tr>\n",
       "      <th>3</th>\n",
       "      <td>06-07-2010</td>\n",
       "      <td>4.000</td>\n",
       "      <td>4.000</td>\n",
       "      <td>3.166</td>\n",
       "      <td>3.222</td>\n",
       "      <td>3.222</td>\n",
       "      <td>34334500</td>\n",
       "    </tr>\n",
       "    <tr>\n",
       "      <th>4</th>\n",
       "      <td>07-07-2010</td>\n",
       "      <td>3.280</td>\n",
       "      <td>3.326</td>\n",
       "      <td>2.996</td>\n",
       "      <td>3.160</td>\n",
       "      <td>3.160</td>\n",
       "      <td>34608500</td>\n",
       "    </tr>\n",
       "  </tbody>\n",
       "</table>\n",
       "</div>"
      ],
      "text/plain": [
       "         Date   Open   High    Low  Close  Adj Close    Volume\n",
       "0  30-06-2010  5.158  6.084  4.660  4.766      4.766  85935500\n",
       "1  01-07-2010  5.000  5.184  4.054  4.392      4.392  41094000\n",
       "2  02-07-2010  4.600  4.620  3.742  3.840      3.840  25699000\n",
       "3  06-07-2010  4.000  4.000  3.166  3.222      3.222  34334500\n",
       "4  07-07-2010  3.280  3.326  2.996  3.160      3.160  34608500"
      ]
     },
     "execution_count": 8,
     "metadata": {},
     "output_type": "execute_result"
    }
   ],
   "source": [
    "df1['High'].fillna(method = 'bfill',inplace = True)\n",
    "df1.head(5)"
   ]
  },
  {
   "cell_type": "markdown",
   "metadata": {},
   "source": [
    "### Droping a missing value row from the dataset"
   ]
  },
  {
   "cell_type": "code",
   "execution_count": 9,
   "metadata": {},
   "outputs": [
    {
     "data": {
      "text/html": [
       "<div>\n",
       "<style scoped>\n",
       "    .dataframe tbody tr th:only-of-type {\n",
       "        vertical-align: middle;\n",
       "    }\n",
       "\n",
       "    .dataframe tbody tr th {\n",
       "        vertical-align: top;\n",
       "    }\n",
       "\n",
       "    .dataframe thead th {\n",
       "        text-align: right;\n",
       "    }\n",
       "</style>\n",
       "<table border=\"1\" class=\"dataframe\">\n",
       "  <thead>\n",
       "    <tr style=\"text-align: right;\">\n",
       "      <th></th>\n",
       "      <th>Date</th>\n",
       "      <th>Open</th>\n",
       "      <th>High</th>\n",
       "      <th>Low</th>\n",
       "      <th>Close</th>\n",
       "      <th>Adj Close</th>\n",
       "      <th>Volume</th>\n",
       "    </tr>\n",
       "  </thead>\n",
       "  <tbody>\n",
       "    <tr>\n",
       "      <th>0</th>\n",
       "      <td>30-06-2010</td>\n",
       "      <td>5.158</td>\n",
       "      <td>6.084</td>\n",
       "      <td>4.660</td>\n",
       "      <td>4.766</td>\n",
       "      <td>4.766</td>\n",
       "      <td>85935500</td>\n",
       "    </tr>\n",
       "    <tr>\n",
       "      <th>1</th>\n",
       "      <td>01-07-2010</td>\n",
       "      <td>5.000</td>\n",
       "      <td>5.184</td>\n",
       "      <td>4.054</td>\n",
       "      <td>4.392</td>\n",
       "      <td>4.392</td>\n",
       "      <td>41094000</td>\n",
       "    </tr>\n",
       "    <tr>\n",
       "      <th>2</th>\n",
       "      <td>02-07-2010</td>\n",
       "      <td>4.600</td>\n",
       "      <td>4.620</td>\n",
       "      <td>3.742</td>\n",
       "      <td>3.840</td>\n",
       "      <td>3.840</td>\n",
       "      <td>25699000</td>\n",
       "    </tr>\n",
       "    <tr>\n",
       "      <th>3</th>\n",
       "      <td>06-07-2010</td>\n",
       "      <td>4.000</td>\n",
       "      <td>4.000</td>\n",
       "      <td>3.166</td>\n",
       "      <td>3.222</td>\n",
       "      <td>3.222</td>\n",
       "      <td>34334500</td>\n",
       "    </tr>\n",
       "    <tr>\n",
       "      <th>4</th>\n",
       "      <td>07-07-2010</td>\n",
       "      <td>3.280</td>\n",
       "      <td>3.326</td>\n",
       "      <td>2.996</td>\n",
       "      <td>3.160</td>\n",
       "      <td>3.160</td>\n",
       "      <td>34608500</td>\n",
       "    </tr>\n",
       "  </tbody>\n",
       "</table>\n",
       "</div>"
      ],
      "text/plain": [
       "         Date   Open   High    Low  Close  Adj Close    Volume\n",
       "0  30-06-2010  5.158  6.084  4.660  4.766      4.766  85935500\n",
       "1  01-07-2010  5.000  5.184  4.054  4.392      4.392  41094000\n",
       "2  02-07-2010  4.600  4.620  3.742  3.840      3.840  25699000\n",
       "3  06-07-2010  4.000  4.000  3.166  3.222      3.222  34334500\n",
       "4  07-07-2010  3.280  3.326  2.996  3.160      3.160  34608500"
      ]
     },
     "execution_count": 9,
     "metadata": {},
     "output_type": "execute_result"
    }
   ],
   "source": [
    "df1.dropna(axis=0,inplace=True)\n",
    "df1.head(5)"
   ]
  },
  {
   "cell_type": "code",
   "execution_count": 10,
   "metadata": {},
   "outputs": [
    {
     "data": {
      "text/plain": [
       "Date         0\n",
       "Open         0\n",
       "High         0\n",
       "Low          0\n",
       "Close        0\n",
       "Adj Close    0\n",
       "Volume       0\n",
       "dtype: int64"
      ]
     },
     "execution_count": 10,
     "metadata": {},
     "output_type": "execute_result"
    }
   ],
   "source": [
    "df1.isnull().sum()"
   ]
  },
  {
   "cell_type": "code",
   "execution_count": 11,
   "metadata": {},
   "outputs": [
    {
     "data": {
      "text/html": [
       "<div>\n",
       "<style scoped>\n",
       "    .dataframe tbody tr th:only-of-type {\n",
       "        vertical-align: middle;\n",
       "    }\n",
       "\n",
       "    .dataframe tbody tr th {\n",
       "        vertical-align: top;\n",
       "    }\n",
       "\n",
       "    .dataframe thead th {\n",
       "        text-align: right;\n",
       "    }\n",
       "</style>\n",
       "<table border=\"1\" class=\"dataframe\">\n",
       "  <thead>\n",
       "    <tr style=\"text-align: right;\">\n",
       "      <th></th>\n",
       "      <th>Open</th>\n",
       "      <th>High</th>\n",
       "      <th>Low</th>\n",
       "      <th>Close</th>\n",
       "      <th>Adj Close</th>\n",
       "      <th>Volume</th>\n",
       "    </tr>\n",
       "  </thead>\n",
       "  <tbody>\n",
       "    <tr>\n",
       "      <th>count</th>\n",
       "      <td>2578.000000</td>\n",
       "      <td>2578.000000</td>\n",
       "      <td>2578.000000</td>\n",
       "      <td>2578.000000</td>\n",
       "      <td>2578.000000</td>\n",
       "      <td>2.578000e+03</td>\n",
       "    </tr>\n",
       "    <tr>\n",
       "      <th>mean</th>\n",
       "      <td>49.223318</td>\n",
       "      <td>50.318884</td>\n",
       "      <td>48.089339</td>\n",
       "      <td>49.269635</td>\n",
       "      <td>49.269925</td>\n",
       "      <td>3.079309e+07</td>\n",
       "    </tr>\n",
       "    <tr>\n",
       "      <th>std</th>\n",
       "      <td>57.939183</td>\n",
       "      <td>59.893721</td>\n",
       "      <td>55.857108</td>\n",
       "      <td>58.125128</td>\n",
       "      <td>58.124909</td>\n",
       "      <td>2.855732e+07</td>\n",
       "    </tr>\n",
       "    <tr>\n",
       "      <th>min</th>\n",
       "      <td>3.228000</td>\n",
       "      <td>3.326000</td>\n",
       "      <td>2.996000</td>\n",
       "      <td>3.160000</td>\n",
       "      <td>3.160000</td>\n",
       "      <td>5.925000e+05</td>\n",
       "    </tr>\n",
       "    <tr>\n",
       "      <th>25%</th>\n",
       "      <td>7.175000</td>\n",
       "      <td>7.279500</td>\n",
       "      <td>6.990500</td>\n",
       "      <td>7.190500</td>\n",
       "      <td>7.190500</td>\n",
       "      <td>1.052762e+07</td>\n",
       "    </tr>\n",
       "    <tr>\n",
       "      <th>50%</th>\n",
       "      <td>44.015999</td>\n",
       "      <td>44.667999</td>\n",
       "      <td>43.314999</td>\n",
       "      <td>43.924000</td>\n",
       "      <td>43.924000</td>\n",
       "      <td>2.413700e+07</td>\n",
       "    </tr>\n",
       "    <tr>\n",
       "      <th>75%</th>\n",
       "      <td>59.339500</td>\n",
       "      <td>60.172500</td>\n",
       "      <td>57.841499</td>\n",
       "      <td>59.030001</td>\n",
       "      <td>59.030001</td>\n",
       "      <td>3.981350e+07</td>\n",
       "    </tr>\n",
       "    <tr>\n",
       "      <th>max</th>\n",
       "      <td>502.140015</td>\n",
       "      <td>502.489990</td>\n",
       "      <td>470.510010</td>\n",
       "      <td>498.320007</td>\n",
       "      <td>498.320007</td>\n",
       "      <td>3.046940e+08</td>\n",
       "    </tr>\n",
       "  </tbody>\n",
       "</table>\n",
       "</div>"
      ],
      "text/plain": [
       "              Open         High          Low        Close    Adj Close  \\\n",
       "count  2578.000000  2578.000000  2578.000000  2578.000000  2578.000000   \n",
       "mean     49.223318    50.318884    48.089339    49.269635    49.269925   \n",
       "std      57.939183    59.893721    55.857108    58.125128    58.124909   \n",
       "min       3.228000     3.326000     2.996000     3.160000     3.160000   \n",
       "25%       7.175000     7.279500     6.990500     7.190500     7.190500   \n",
       "50%      44.015999    44.667999    43.314999    43.924000    43.924000   \n",
       "75%      59.339500    60.172500    57.841499    59.030001    59.030001   \n",
       "max     502.140015   502.489990   470.510010   498.320007   498.320007   \n",
       "\n",
       "             Volume  \n",
       "count  2.578000e+03  \n",
       "mean   3.079309e+07  \n",
       "std    2.855732e+07  \n",
       "min    5.925000e+05  \n",
       "25%    1.052762e+07  \n",
       "50%    2.413700e+07  \n",
       "75%    3.981350e+07  \n",
       "max    3.046940e+08  "
      ]
     },
     "execution_count": 11,
     "metadata": {},
     "output_type": "execute_result"
    }
   ],
   "source": [
    "df1.describe()"
   ]
  },
  {
   "cell_type": "code",
   "execution_count": 12,
   "metadata": {},
   "outputs": [
    {
     "name": "stdout",
     "output_type": "stream",
     "text": [
      "<class 'pandas.core.frame.DataFrame'>\n",
      "Int64Index: 2578 entries, 0 to 2578\n",
      "Data columns (total 7 columns):\n",
      " #   Column     Non-Null Count  Dtype  \n",
      "---  ------     --------------  -----  \n",
      " 0   Date       2578 non-null   object \n",
      " 1   Open       2578 non-null   float64\n",
      " 2   High       2578 non-null   float64\n",
      " 3   Low        2578 non-null   float64\n",
      " 4   Close      2578 non-null   float64\n",
      " 5   Adj Close  2578 non-null   float64\n",
      " 6   Volume     2578 non-null   int64  \n",
      "dtypes: float64(5), int64(1), object(1)\n",
      "memory usage: 161.1+ KB\n"
     ]
    }
   ],
   "source": [
    "df1.info()"
   ]
  },
  {
   "cell_type": "markdown",
   "metadata": {},
   "source": [
    "### Removing the Unwanted data (Data Reduction)"
   ]
  },
  {
   "cell_type": "code",
   "execution_count": 13,
   "metadata": {},
   "outputs": [
    {
     "data": {
      "text/html": [
       "<div>\n",
       "<style scoped>\n",
       "    .dataframe tbody tr th:only-of-type {\n",
       "        vertical-align: middle;\n",
       "    }\n",
       "\n",
       "    .dataframe tbody tr th {\n",
       "        vertical-align: top;\n",
       "    }\n",
       "\n",
       "    .dataframe thead th {\n",
       "        text-align: right;\n",
       "    }\n",
       "</style>\n",
       "<table border=\"1\" class=\"dataframe\">\n",
       "  <thead>\n",
       "    <tr style=\"text-align: right;\">\n",
       "      <th></th>\n",
       "      <th>Open</th>\n",
       "      <th>High</th>\n",
       "      <th>Low</th>\n",
       "      <th>Close</th>\n",
       "      <th>Adj Close</th>\n",
       "      <th>Volume</th>\n",
       "    </tr>\n",
       "  </thead>\n",
       "  <tbody>\n",
       "    <tr>\n",
       "      <th>0</th>\n",
       "      <td>5.158000</td>\n",
       "      <td>6.084000</td>\n",
       "      <td>4.660000</td>\n",
       "      <td>4.766000</td>\n",
       "      <td>4.766000</td>\n",
       "      <td>85935500</td>\n",
       "    </tr>\n",
       "    <tr>\n",
       "      <th>1</th>\n",
       "      <td>5.000000</td>\n",
       "      <td>5.184000</td>\n",
       "      <td>4.054000</td>\n",
       "      <td>4.392000</td>\n",
       "      <td>4.392000</td>\n",
       "      <td>41094000</td>\n",
       "    </tr>\n",
       "    <tr>\n",
       "      <th>2</th>\n",
       "      <td>4.600000</td>\n",
       "      <td>4.620000</td>\n",
       "      <td>3.742000</td>\n",
       "      <td>3.840000</td>\n",
       "      <td>3.840000</td>\n",
       "      <td>25699000</td>\n",
       "    </tr>\n",
       "    <tr>\n",
       "      <th>3</th>\n",
       "      <td>4.000000</td>\n",
       "      <td>4.000000</td>\n",
       "      <td>3.166000</td>\n",
       "      <td>3.222000</td>\n",
       "      <td>3.222000</td>\n",
       "      <td>34334500</td>\n",
       "    </tr>\n",
       "    <tr>\n",
       "      <th>4</th>\n",
       "      <td>3.280000</td>\n",
       "      <td>3.326000</td>\n",
       "      <td>2.996000</td>\n",
       "      <td>3.160000</td>\n",
       "      <td>3.160000</td>\n",
       "      <td>34608500</td>\n",
       "    </tr>\n",
       "    <tr>\n",
       "      <th>...</th>\n",
       "      <td>...</td>\n",
       "      <td>...</td>\n",
       "      <td>...</td>\n",
       "      <td>...</td>\n",
       "      <td>...</td>\n",
       "      <td>...</td>\n",
       "    </tr>\n",
       "    <tr>\n",
       "      <th>2574</th>\n",
       "      <td>453.130005</td>\n",
       "      <td>455.679993</td>\n",
       "      <td>407.070007</td>\n",
       "      <td>449.390015</td>\n",
       "      <td>449.390015</td>\n",
       "      <td>109476800</td>\n",
       "    </tr>\n",
       "    <tr>\n",
       "      <th>2575</th>\n",
       "      <td>429.600006</td>\n",
       "      <td>437.760010</td>\n",
       "      <td>417.600006</td>\n",
       "      <td>424.230011</td>\n",
       "      <td>424.230011</td>\n",
       "      <td>79580800</td>\n",
       "    </tr>\n",
       "    <tr>\n",
       "      <th>2576</th>\n",
       "      <td>405.160004</td>\n",
       "      <td>412.149994</td>\n",
       "      <td>375.880005</td>\n",
       "      <td>380.359985</td>\n",
       "      <td>380.359985</td>\n",
       "      <td>95074200</td>\n",
       "    </tr>\n",
       "    <tr>\n",
       "      <th>2577</th>\n",
       "      <td>363.799988</td>\n",
       "      <td>399.500000</td>\n",
       "      <td>351.299988</td>\n",
       "      <td>387.790009</td>\n",
       "      <td>387.790009</td>\n",
       "      <td>96561100</td>\n",
       "    </tr>\n",
       "    <tr>\n",
       "      <th>2578</th>\n",
       "      <td>393.470001</td>\n",
       "      <td>408.730011</td>\n",
       "      <td>391.299988</td>\n",
       "      <td>407.339996</td>\n",
       "      <td>407.339996</td>\n",
       "      <td>67068400</td>\n",
       "    </tr>\n",
       "  </tbody>\n",
       "</table>\n",
       "<p>2578 rows × 6 columns</p>\n",
       "</div>"
      ],
      "text/plain": [
       "            Open        High         Low       Close   Adj Close     Volume\n",
       "0       5.158000    6.084000    4.660000    4.766000    4.766000   85935500\n",
       "1       5.000000    5.184000    4.054000    4.392000    4.392000   41094000\n",
       "2       4.600000    4.620000    3.742000    3.840000    3.840000   25699000\n",
       "3       4.000000    4.000000    3.166000    3.222000    3.222000   34334500\n",
       "4       3.280000    3.326000    2.996000    3.160000    3.160000   34608500\n",
       "...          ...         ...         ...         ...         ...        ...\n",
       "2574  453.130005  455.679993  407.070007  449.390015  449.390015  109476800\n",
       "2575  429.600006  437.760010  417.600006  424.230011  424.230011   79580800\n",
       "2576  405.160004  412.149994  375.880005  380.359985  380.359985   95074200\n",
       "2577  363.799988  399.500000  351.299988  387.790009  387.790009   96561100\n",
       "2578  393.470001  408.730011  391.299988  407.339996  407.339996   67068400\n",
       "\n",
       "[2578 rows x 6 columns]"
      ]
     },
     "execution_count": 13,
     "metadata": {},
     "output_type": "execute_result"
    }
   ],
   "source": [
    "df1=df1.drop(['Date'], axis=1)\n",
    "df1"
   ]
  },
  {
   "cell_type": "markdown",
   "metadata": {},
   "source": [
    "### Removing Outliers from the data"
   ]
  },
  {
   "cell_type": "code",
   "execution_count": 14,
   "metadata": {},
   "outputs": [
    {
     "data": {
      "text/plain": [
       "array([[0.7606919 , 0.73869958, 0.77765868, 0.76580078, 0.76580866,\n",
       "        1.93131224],\n",
       "       [0.76341943, 0.75372911, 0.78850989, 0.77223642, 0.77224432,\n",
       "        0.36077986],\n",
       "       [0.77032456, 0.76314762, 0.79409666, 0.78173502, 0.78174296,\n",
       "        0.17841589],\n",
       "       ...,\n",
       "       [6.14447292, 6.04239146, 5.86951728, 5.69727058, 5.69728706,\n",
       "        2.25138682],\n",
       "       [5.43048218, 5.83114314, 5.42938017, 5.82512347, 5.82514043,\n",
       "        2.30346413],\n",
       "       [5.94267044, 5.98527953, 6.14563209, 6.16153184, 6.16155007,\n",
       "        1.27050938]])"
      ]
     },
     "execution_count": 14,
     "metadata": {},
     "output_type": "execute_result"
    }
   ],
   "source": [
    "from scipy import stats\n",
    "z = np.abs(stats.zscore(df1))\n",
    "z"
   ]
  },
  {
   "cell_type": "code",
   "execution_count": 15,
   "metadata": {},
   "outputs": [
    {
     "name": "stdout",
     "output_type": "stream",
     "text": [
      "(array([ 721,  764,  844,  918, 2039, 2076, 2345, 2346, 2396, 2405, 2411,\n",
      "       2413, 2414, 2415, 2416, 2462, 2475, 2520, 2521, 2523, 2523, 2523,\n",
      "       2523, 2524, 2524, 2524, 2524, 2524, 2524, 2525, 2525, 2525, 2525,\n",
      "       2525, 2526, 2526, 2526, 2526, 2526, 2527, 2527, 2527, 2527, 2527,\n",
      "       2528, 2528, 2528, 2528, 2528, 2529, 2529, 2529, 2529, 2529, 2530,\n",
      "       2530, 2530, 2530, 2530, 2531, 2531, 2531, 2531, 2531, 2532, 2532,\n",
      "       2532, 2532, 2532, 2533, 2533, 2533, 2533, 2533, 2534, 2534, 2534,\n",
      "       2534, 2534, 2535, 2535, 2535, 2535, 2535, 2536, 2536, 2536, 2536,\n",
      "       2536, 2537, 2537, 2537, 2537, 2537, 2538, 2538, 2538, 2538, 2538,\n",
      "       2539, 2539, 2539, 2539, 2539, 2540, 2540, 2540, 2540, 2540, 2541,\n",
      "       2541, 2541, 2541, 2541, 2542, 2542, 2542, 2542, 2542, 2543, 2543,\n",
      "       2543, 2543, 2543, 2544, 2544, 2544, 2544, 2544, 2545, 2546, 2546,\n",
      "       2546, 2546, 2546, 2547, 2547, 2547, 2547, 2547, 2548, 2548, 2548,\n",
      "       2548, 2548, 2549, 2549, 2549, 2549, 2549, 2550, 2550, 2550, 2550,\n",
      "       2550, 2551, 2551, 2551, 2551, 2551, 2552, 2552, 2552, 2552, 2552,\n",
      "       2553, 2553, 2553, 2553, 2553, 2554, 2554, 2554, 2554, 2554, 2555,\n",
      "       2555, 2555, 2555, 2555, 2556, 2556, 2556, 2556, 2556, 2557, 2557,\n",
      "       2557, 2557, 2557, 2558, 2558, 2558, 2558, 2558, 2559, 2559, 2559,\n",
      "       2559, 2559, 2560, 2560, 2560, 2560, 2560, 2561, 2561, 2561, 2561,\n",
      "       2561, 2562, 2562, 2562, 2562, 2562, 2563, 2563, 2563, 2563, 2563,\n",
      "       2564, 2564, 2564, 2564, 2564, 2565, 2565, 2565, 2565, 2565, 2566,\n",
      "       2566, 2566, 2566, 2566, 2567, 2567, 2567, 2567, 2567, 2568, 2568,\n",
      "       2568, 2568, 2568, 2569, 2569, 2569, 2569, 2569, 2570, 2570, 2570,\n",
      "       2570, 2570, 2571, 2571, 2571, 2571, 2571, 2572, 2572, 2572, 2572,\n",
      "       2572, 2573, 2573, 2573, 2573, 2573, 2574, 2574, 2574, 2574, 2574,\n",
      "       2575, 2575, 2575, 2575, 2575, 2576, 2576, 2576, 2576, 2576, 2577,\n",
      "       2577, 2577, 2577, 2577], dtype=int64), array([5, 5, 5, 5, 5, 5, 5, 5, 5, 5, 5, 5, 5, 5, 5, 5, 5, 0, 0, 1, 2, 3,\n",
      "       4, 0, 1, 2, 3, 4, 5, 0, 1, 2, 3, 4, 0, 1, 2, 3, 4, 0, 1, 2, 3, 4,\n",
      "       0, 1, 2, 3, 4, 0, 1, 2, 3, 4, 0, 1, 2, 3, 4, 0, 1, 2, 3, 4, 0, 1,\n",
      "       2, 3, 4, 0, 1, 2, 3, 4, 0, 1, 2, 3, 4, 0, 1, 2, 3, 4, 0, 1, 2, 3,\n",
      "       4, 0, 1, 2, 3, 4, 0, 1, 2, 3, 4, 0, 1, 2, 3, 4, 0, 1, 2, 3, 4, 0,\n",
      "       1, 2, 3, 4, 0, 1, 2, 3, 4, 0, 1, 2, 3, 4, 0, 1, 2, 3, 4, 2, 0, 1,\n",
      "       2, 3, 4, 0, 1, 2, 3, 4, 0, 1, 2, 3, 4, 0, 1, 2, 3, 4, 0, 1, 2, 3,\n",
      "       4, 0, 1, 2, 3, 4, 0, 1, 2, 3, 4, 0, 1, 2, 3, 4, 0, 1, 2, 3, 4, 0,\n",
      "       1, 2, 3, 4, 0, 1, 2, 3, 4, 0, 1, 2, 3, 4, 0, 1, 2, 3, 4, 0, 1, 2,\n",
      "       3, 4, 0, 1, 2, 3, 4, 0, 1, 2, 3, 4, 0, 1, 2, 3, 4, 0, 1, 2, 3, 4,\n",
      "       0, 1, 2, 3, 4, 0, 1, 2, 3, 4, 0, 1, 2, 3, 4, 0, 1, 2, 3, 4, 0, 1,\n",
      "       2, 3, 4, 0, 1, 2, 3, 4, 0, 1, 2, 3, 4, 0, 1, 2, 3, 4, 0, 1, 2, 3,\n",
      "       4, 0, 1, 2, 3, 4, 0, 1, 2, 3, 4, 0, 1, 2, 3, 4, 0, 1, 2, 3, 4, 0,\n",
      "       1, 2, 3, 4], dtype=int64))\n"
     ]
    }
   ],
   "source": [
    "threshold = 4\n",
    "print(np.where(z > 4))"
   ]
  },
  {
   "cell_type": "code",
   "execution_count": 16,
   "metadata": {},
   "outputs": [
    {
     "data": {
      "text/plain": [
       "0.5558407207564203"
      ]
     },
     "execution_count": 16,
     "metadata": {},
     "output_type": "execute_result"
    }
   ],
   "source": [
    "z[722][4]"
   ]
  },
  {
   "cell_type": "markdown",
   "metadata": {},
   "source": [
    "### Bin method to smooth the data"
   ]
  },
  {
   "cell_type": "code",
   "execution_count": 17,
   "metadata": {},
   "outputs": [],
   "source": [
    "min_val=df1['Open'].min()\n",
    "max_val=df1['Open'].max()"
   ]
  },
  {
   "cell_type": "code",
   "execution_count": 18,
   "metadata": {},
   "outputs": [],
   "source": [
    "bins = np.linspace(min_val,max_val,50)\n",
    "labels = bins[1:]"
   ]
  },
  {
   "cell_type": "code",
   "execution_count": 19,
   "metadata": {},
   "outputs": [
    {
     "data": {
      "text/html": [
       "<div>\n",
       "<style scoped>\n",
       "    .dataframe tbody tr th:only-of-type {\n",
       "        vertical-align: middle;\n",
       "    }\n",
       "\n",
       "    .dataframe tbody tr th {\n",
       "        vertical-align: top;\n",
       "    }\n",
       "\n",
       "    .dataframe thead th {\n",
       "        text-align: right;\n",
       "    }\n",
       "</style>\n",
       "<table border=\"1\" class=\"dataframe\">\n",
       "  <thead>\n",
       "    <tr style=\"text-align: right;\">\n",
       "      <th></th>\n",
       "      <th>Open</th>\n",
       "      <th>High</th>\n",
       "      <th>Low</th>\n",
       "      <th>Close</th>\n",
       "      <th>Adj Close</th>\n",
       "      <th>Volume</th>\n",
       "      <th>Open_bin</th>\n",
       "    </tr>\n",
       "  </thead>\n",
       "  <tbody>\n",
       "    <tr>\n",
       "      <th>0</th>\n",
       "      <td>5.158</td>\n",
       "      <td>6.084</td>\n",
       "      <td>4.660</td>\n",
       "      <td>4.766</td>\n",
       "      <td>4.766</td>\n",
       "      <td>85935500</td>\n",
       "      <td>13.409878</td>\n",
       "    </tr>\n",
       "    <tr>\n",
       "      <th>1</th>\n",
       "      <td>5.000</td>\n",
       "      <td>5.184</td>\n",
       "      <td>4.054</td>\n",
       "      <td>4.392</td>\n",
       "      <td>4.392</td>\n",
       "      <td>41094000</td>\n",
       "      <td>13.409878</td>\n",
       "    </tr>\n",
       "    <tr>\n",
       "      <th>2</th>\n",
       "      <td>4.600</td>\n",
       "      <td>4.620</td>\n",
       "      <td>3.742</td>\n",
       "      <td>3.840</td>\n",
       "      <td>3.840</td>\n",
       "      <td>25699000</td>\n",
       "      <td>13.409878</td>\n",
       "    </tr>\n",
       "    <tr>\n",
       "      <th>3</th>\n",
       "      <td>4.000</td>\n",
       "      <td>4.000</td>\n",
       "      <td>3.166</td>\n",
       "      <td>3.222</td>\n",
       "      <td>3.222</td>\n",
       "      <td>34334500</td>\n",
       "      <td>13.409878</td>\n",
       "    </tr>\n",
       "    <tr>\n",
       "      <th>4</th>\n",
       "      <td>3.280</td>\n",
       "      <td>3.326</td>\n",
       "      <td>2.996</td>\n",
       "      <td>3.160</td>\n",
       "      <td>3.160</td>\n",
       "      <td>34608500</td>\n",
       "      <td>13.409878</td>\n",
       "    </tr>\n",
       "  </tbody>\n",
       "</table>\n",
       "</div>"
      ],
      "text/plain": [
       "    Open   High    Low  Close  Adj Close    Volume   Open_bin\n",
       "0  5.158  6.084  4.660  4.766      4.766  85935500  13.409878\n",
       "1  5.000  5.184  4.054  4.392      4.392  41094000  13.409878\n",
       "2  4.600  4.620  3.742  3.840      3.840  25699000  13.409878\n",
       "3  4.000  4.000  3.166  3.222      3.222  34334500  13.409878\n",
       "4  3.280  3.326  2.996  3.160      3.160  34608500  13.409878"
      ]
     },
     "execution_count": 19,
     "metadata": {},
     "output_type": "execute_result"
    }
   ],
   "source": [
    "df1['Open_bin']=pd.cut(df1['Open'],bins=bins,labels=labels,include_lowest=True)\n",
    "df1.head(5)"
   ]
  },
  {
   "cell_type": "markdown",
   "metadata": {},
   "source": [
    "### Plotting Heat map"
   ]
  },
  {
   "cell_type": "code",
   "execution_count": 20,
   "metadata": {},
   "outputs": [
    {
     "data": {
      "text/plain": [
       "<AxesSubplot:>"
      ]
     },
     "execution_count": 20,
     "metadata": {},
     "output_type": "execute_result"
    },
    {
     "data": {
      "image/png": "[encoded data removed]",
      "text/plain": [
       "<Figure size 432x288 with 2 Axes>"
      ]
     },
     "metadata": {
      "needs_background": "light"
     },
     "output_type": "display_data"
    }
   ],
   "source": [
    "import seaborn as sns\n",
    "sns.heatmap(df1.corr(),annot=True,cmap=\"Blues\")"
   ]
  },
  {
   "cell_type": "markdown",
   "metadata": {},
   "source": [
    "### Plotting pair plots"
   ]
  },
  {
   "cell_type": "code",
   "execution_count": 21,
   "metadata": {},
   "outputs": [
    {
     "data": {
      "image/png": "[encoded data removed]",
      "text/plain": [
       "<Figure size 1080x1080 with 42 Axes>"
      ]
     },
     "metadata": {
      "needs_background": "light"
     },
     "output_type": "display_data"
    }
   ],
   "source": [
    "import matplotlib.pyplot as plt\n",
    "sns.pairplot(df1)\n",
    "plt.tight_layout()"
   ]
  },
  {
   "cell_type": "markdown",
   "metadata": {},
   "source": [
    "### Model Training "
   ]
  },
  {
   "cell_type": "markdown",
   "metadata": {},
   "source": [
    "### Splitting data into test and train"
   ]
  },
  {
   "cell_type": "code",
   "execution_count": 22,
   "metadata": {},
   "outputs": [],
   "source": [
    "X = df1[['High','Low','Open','Volume']].values\n",
    "y = df1['Close'].values"
   ]
  },
  {
   "cell_type": "code",
   "execution_count": 23,
   "metadata": {},
   "outputs": [
    {
     "data": {
      "text/plain": [
       "array([[6.08400000e+00, 4.66000000e+00, 5.15800000e+00, 8.59355000e+07],\n",
       "       [5.18400000e+00, 4.05400000e+00, 5.00000000e+00, 4.10940000e+07],\n",
       "       [4.62000000e+00, 3.74200000e+00, 4.60000000e+00, 2.56990000e+07],\n",
       "       ...,\n",
       "       [4.12149994e+02, 3.75880005e+02, 4.05160004e+02, 9.50742000e+07],\n",
       "       [3.99500000e+02, 3.51299988e+02, 3.63799988e+02, 9.65611000e+07],\n",
       "       [4.08730011e+02, 3.91299988e+02, 3.93470001e+02, 6.70684000e+07]])"
      ]
     },
     "execution_count": 23,
     "metadata": {},
     "output_type": "execute_result"
    }
   ],
   "source": [
    "X"
   ]
  },
  {
   "cell_type": "code",
   "execution_count": 24,
   "metadata": {},
   "outputs": [
    {
     "data": {
      "text/plain": [
       "array([  4.766   ,   4.392   ,   3.84    , ..., 380.359985, 387.790009,\n",
       "       407.339996])"
      ]
     },
     "execution_count": 24,
     "metadata": {},
     "output_type": "execute_result"
    }
   ],
   "source": [
    "y"
   ]
  },
  {
   "cell_type": "code",
   "execution_count": 25,
   "metadata": {},
   "outputs": [],
   "source": [
    "from sklearn.model_selection import train_test_split\n",
    "from sklearn.linear_model import LinearRegression"
   ]
  },
  {
   "cell_type": "code",
   "execution_count": 26,
   "metadata": {},
   "outputs": [],
   "source": [
    "X_train, X_test, y_train, y_test = train_test_split(X,y, test_size=0.3, random_state=1)"
   ]
  },
  {
   "cell_type": "markdown",
   "metadata": {},
   "source": [
    "### Applying Linear regression model "
   ]
  },
  {
   "cell_type": "code",
   "execution_count": 27,
   "metadata": {},
   "outputs": [],
   "source": [
    "regressor = LinearRegression()"
   ]
  },
  {
   "cell_type": "code",
   "execution_count": 28,
   "metadata": {},
   "outputs": [
    {
     "data": {
      "text/plain": [
       "LinearRegression()"
      ]
     },
     "execution_count": 28,
     "metadata": {},
     "output_type": "execute_result"
    }
   ],
   "source": [
    "regressor.fit(X_train, y_train)"
   ]
  },
  {
   "cell_type": "code",
   "execution_count": 29,
   "metadata": {},
   "outputs": [
    {
     "name": "stdout",
     "output_type": "stream",
     "text": [
      "[ 8.86529434e-01  5.90674943e-01 -4.80488089e-01 -9.12309553e-09]\n"
     ]
    }
   ],
   "source": [
    "print(regressor.coef_)"
   ]
  },
  {
   "cell_type": "code",
   "execution_count": 30,
   "metadata": {},
   "outputs": [
    {
     "name": "stdout",
     "output_type": "stream",
     "text": [
      "0.18305890812803938\n"
     ]
    }
   ],
   "source": [
    "print(regressor.intercept_)"
   ]
  },
  {
   "cell_type": "code",
   "execution_count": 31,
   "metadata": {},
   "outputs": [],
   "source": [
    "predicted = regressor.predict(X_test)"
   ]
  },
  {
   "cell_type": "code",
   "execution_count": 32,
   "metadata": {},
   "outputs": [
    {
     "name": "stdout",
     "output_type": "stream",
     "text": [
      "[ 37.47880929   5.38807108  34.50880414   6.63598077  46.11418883\n",
      "  40.76209273  40.97394457  24.21181854  50.74840802  43.01086546\n",
      "  42.37561648  38.92521974   6.97404288  43.92933482  54.54841911\n",
      "   4.63582001  49.53543886  62.25558536   6.5381177   50.87690464\n",
      " 162.24133816  77.99593083  24.27468256  17.50881428  67.52839045\n",
      "  44.83030713  72.84314906  49.06348178  74.30292517  40.36710847\n",
      "  50.69504816  29.41066589  52.14957192  47.6289346   34.35211649\n",
      "  42.03609716  62.70286916   4.33418518  69.56965268  27.583481\n",
      "  70.82663997  38.24743374  31.23889337  37.86178757  24.83811587\n",
      "  39.15531042   3.43780217  39.68734374   7.59546828  51.70322833\n",
      "   3.94365477   5.87377427   3.00958035  40.98947186  50.87890254\n",
      "   7.31026091   7.27879561  50.02336588 449.69287717   8.44143851\n",
      " 130.87623197  47.09748832  70.11110321  41.81836048  69.90096233\n",
      "  55.78132463 126.84015587  64.01681455  48.65375992  67.92636612\n",
      "   4.96917532 155.00578391  40.66018723  58.69752658   6.81353267\n",
      "  35.96521108  34.89655794   5.56077588  53.94525246  59.68101341\n",
      "   5.71250727  72.53416046  56.54920711  38.5814036    5.50461587\n",
      "  42.66971426  10.00943872   4.21675798  43.81842646  39.74271786\n",
      "  46.7223725    5.75923484   4.1613254    4.80713968  53.52019968\n",
      "  60.43899014  53.38242896   4.81964732  45.89152897   5.87370067\n",
      "  63.2930912    6.71008972  46.60349349  54.49070035 308.47417568\n",
      "  59.3719109   61.09747103  42.17999556   6.16716547   5.02950394\n",
      "  30.07624624   5.85752765  50.0843046   63.97578391   7.08586949\n",
      "  42.15587546  32.74894001  24.09810215  50.22411599   6.1751201\n",
      "  62.2062426    7.04103643  70.82981392  50.51688535  46.28728391\n",
      "  63.63768865   5.80125145  45.88693641  68.08365143  34.99025857\n",
      " 162.65992683  45.5923197   62.03862702  63.69602814  69.34856688\n",
      "  39.67360719  52.30901862  29.79133314   7.48558843  45.74593215\n",
      "  39.52038415   5.48491439  11.01260199  39.03630925  43.77728051\n",
      "  46.4560367   36.76090732   6.48882633  43.45553319 193.40606636\n",
      "  52.45684717  41.11951424  45.00112315  93.42203419  44.0984878\n",
      "  65.67526308  51.92513792  53.64813371  67.75725829  38.63357056\n",
      "  50.54360594  52.31879879  72.96086327   6.66401143   4.24595359\n",
      "   5.45158142  54.31277133  33.98154255  47.61243768   6.28340142\n",
      "  48.7457243   32.84828685  46.64310332   6.98550065  24.65133493\n",
      "  61.79624129   4.72075311  46.12872544   5.1160854   65.9132383\n",
      "  49.75818869   5.76843683  70.86149076   6.09936198  29.77263524\n",
      "  64.20297833  10.86595015  47.71144032  62.65383981  40.30852469\n",
      "   6.31832281   5.28988665   6.43051183   6.04651631  67.60942312\n",
      " 134.12145977  68.17066464  36.66875146  42.14087465  49.73746376\n",
      "  35.70090344  40.42342364  41.33703405  40.15963078  43.07049326\n",
      "  25.55623904  20.15918146  60.93419742  42.34901909   5.24562174\n",
      "  45.10489992  33.22890893  46.38863659  64.21097454  38.05585319\n",
      "  24.6894144   28.60857584  48.64838064  45.12505785   5.91992142\n",
      "  43.93815214   6.59063222   7.58002339  96.92480018 174.49583978\n",
      "   4.28511037   5.98174367  61.82703901 300.1886042  274.78057875\n",
      "  31.77498104   6.85612533   6.42799869 224.44696886   6.0616546\n",
      "  45.96038693   5.65491917  36.76627058  63.22339593  71.83655559\n",
      "  56.02330767  36.46314583  46.75171901   7.55559997  62.22048658\n",
      "  52.60262749  47.47992091  49.5357317   44.01350576  53.93528963\n",
      "   6.09163752  58.85788869  42.29301876  42.9813385   33.95841112\n",
      "  40.92833037  44.98094149   6.90781017   4.87085118  49.3922408\n",
      "   4.78014749  63.6763519   25.55709648  45.5514053   70.94181576\n",
      "  48.98205881   6.26280175  74.49685939  67.81097763  40.27017117\n",
      "  48.20953669  55.47945745  44.24937277  44.8185167    6.35442735\n",
      "   5.50157485   5.35650553   7.0156773    4.18720958  41.72373564\n",
      "   7.03067999  49.17019431  40.97901098  54.41832002  42.65182727\n",
      "  64.10152815   6.6274891   60.80254708  52.4279317   47.80217062\n",
      "   4.32058254   6.19875757  57.68300214  23.55198296   7.09115625\n",
      "  59.6105771    6.77082022  38.04402312  47.32382971 368.14733106\n",
      "  49.52371498  40.51026768  38.60104286  45.85175337  45.88264395\n",
      " 161.12285359  45.08525385  55.83397857  21.0116566   50.00034283\n",
      "   5.21182823  28.45052313  38.26337603  73.8209585  111.91838527\n",
      "  65.69892248   6.10524411  55.46771671   7.19322331   5.6368257\n",
      "   4.33657509  69.15679021  49.18779333  56.03068398  53.44501385\n",
      "   7.30192858  61.90971265   6.4878941   41.72833518   5.68548911\n",
      "  63.47506531  49.81081276  53.18296642  39.57251738   5.82938169\n",
      "  48.44484727   7.00432311   6.43570501   6.76115571  73.18516674\n",
      "   6.452911    40.52405592   8.24151086  50.41945785   6.09181723\n",
      "   5.95974493  39.39320965   5.97757751   5.49128438  49.48179552\n",
      "  32.39531839  52.2343953    5.55324162  62.50115322   7.95415341\n",
      "  41.85942012   5.89018128   5.8799408   46.94178565   6.73346721\n",
      "  43.4001504   69.80549645   6.99439859   7.70855584  37.42707937\n",
      "   5.7457703    5.57487853  61.92807104  56.58927538  44.42403769\n",
      "  48.79569446  39.02188669  44.08173181  58.16063814  42.01543473\n",
      "  59.18792946   7.04427502  51.6725715   50.99394949  38.63608108\n",
      "  59.85925358  53.30697387  66.17078468 155.09121576  39.34901861\n",
      "   5.79515393  45.2533094   38.26811663  59.89266063  59.00573135\n",
      "  35.39113974   8.71403088  59.22052032   6.93192402  50.09890133\n",
      "  52.69088118  65.98329896 163.35818755   5.21021261 427.7923433\n",
      "  51.29638679  39.49135512  62.51111886  37.66279232  47.45974265\n",
      " 114.12799267  62.71607742  62.62984095 392.04713319   6.59330424\n",
      "  58.07161707  43.15596272   5.65452352  46.38987912  71.766697\n",
      "  45.55908978 199.71078921  50.60208977  39.38127415  61.99973716\n",
      "  98.3930382   63.01450419   5.86530573  35.27281749  42.2607532\n",
      " 113.21536828  40.27608874   9.41276942  49.66393742  67.39580935\n",
      "  57.04485972  43.93650684  52.4242422    5.6741116   51.12327945\n",
      "  40.28996255  28.18791227  35.89172202  47.17207214   6.43899032\n",
      " 108.14999908  66.02721778  19.58796825  45.7579085    6.91292253\n",
      "  44.38023573   5.63095646  66.19108705 156.94059726 144.95884537\n",
      " 144.62880059  63.70278641   7.17881261   7.89044505   5.73836\n",
      "   7.59659041  61.33819321  40.98523083   5.54192274  43.10177211\n",
      "   5.07685713  73.39647858  44.65891274   5.70366567  62.41322067\n",
      "  41.99407734  10.45923829  40.47029116  62.93389307  45.37020668\n",
      "  40.98870343   6.66953024  62.67917455   5.98010475  42.8003852\n",
      "  68.99131295  47.44152465  59.85415918  68.06350172  52.53086608\n",
      "  59.53255314  60.63361359  83.26460309  23.49632016  61.87633097\n",
      "  40.34693797  69.08935681  63.17489943   4.50037942  54.98544241\n",
      "   6.1538461   45.50349783  48.96733209  85.13916025   5.31973406\n",
      "   7.80919673   5.37117913   5.65710216   6.43484368  68.68222346\n",
      "  61.12562962  70.43853106   4.83888842   6.46584818   6.0508419\n",
      " 322.35024793  57.22107463  59.98591928  41.75297097   4.2605195\n",
      "  45.62627878   5.43588578   7.04010343   6.97994516   5.84598696\n",
      "  74.08887441 453.46063242   5.81356038 270.41179383  73.73473932\n",
      "  45.28377659  47.17168254  44.68988276  59.84214125  50.16781332\n",
      "   6.94476262  33.57852305  36.24613456  39.52550673  51.55782407\n",
      "  68.97534203  42.26900423   6.88786876   5.44536443   5.80431452\n",
      "  41.72581554  31.70943763  50.55434739  89.43635626  57.02656444\n",
      "  65.67328956  66.84507006  63.28005829   6.43368183   5.8200894\n",
      "  45.42697214  63.3786626   61.48230209 187.06696024 386.17317095\n",
      "  66.11928434  37.34326956  49.55841224  46.63998036   7.88908759\n",
      "   5.68231747   5.63563912  69.64156059  47.02981966  59.85100191\n",
      "  45.63408602  44.38371008  37.91847997  40.55117969  80.15301827\n",
      "  29.03769559  69.38188727   7.62261316  44.99372037   5.49695171\n",
      "  37.83192949   3.66914384   5.77569161   5.62826233 298.84657786\n",
      "  47.97267123   9.87471829   5.06911674  39.70976053   5.03912695\n",
      "  54.37620029  39.65821368   7.75915347  26.46691662  45.58978972\n",
      "  18.52258308  41.28942185  57.75702829   5.0939581    7.71415028\n",
      "  17.91692581  59.38098098  67.84381872  47.43743305  49.44875342\n",
      "   5.14130907   4.79110181   7.59721945  50.15525015 152.24199447\n",
      "  67.21679489  44.18356023  71.50836351   5.84571536   4.42757389\n",
      "  31.74568098 195.58725914  38.04682781  43.6278801   40.06910775\n",
      "  50.57210151  46.48345155  40.01032181  46.05361764   7.99926518\n",
      "  50.0739174    6.97075309  52.34361525  43.01246336  58.38520239\n",
      "   6.9515959    6.20558703  53.52398913  44.5688162   48.07530581\n",
      "   6.37865691  69.87539564  66.13316369   4.25199256   5.54982662\n",
      "  96.94051399 102.86898092  42.54627811  68.36748773   4.39607878\n",
      "   5.70644657  38.6088641    5.68098833  49.78351764 403.99582196\n",
      " 100.23752823  70.96412234   4.89935594   5.35781545  48.00977059\n",
      "   6.84448414  49.72463276  48.63666899  24.27436814   4.45114588\n",
      "  29.04949238  40.8212516    4.21948828   6.57953209  41.11444542\n",
      "  42.03495079   5.31879498  68.28041948  57.15986399  39.02706021\n",
      "  19.69741856  68.82826343  44.63862203  36.87585404 162.85100467\n",
      "  42.67425623  45.53648424  61.75156081   6.82069157  54.17492192\n",
      "  50.38589806  20.0825857    5.57680964  68.52955501  68.36992127\n",
      "   6.34812136  48.23222789  24.58977808  30.78284325  47.65962057\n",
      "  33.56672703  49.04176206  49.51628169   4.69889226   6.59602598\n",
      "   6.78766324   3.36406423  33.95727488  68.98290812  42.54627001\n",
      "  26.60314673  66.16069826  52.80417862  51.22122566   5.76980466\n",
      "  69.12480006  47.6312013   42.54075088  70.52085848  39.79999838\n",
      "   5.91051038  40.43385248  41.95263971  45.58811662  47.10740146\n",
      "   6.3704899   49.00513029  52.4221139   68.20744331  71.29344187\n",
      "   6.83071968  27.92410855  61.37129701   6.52563026   4.74764305\n",
      "  49.89407984  73.19793479 160.26736163  52.89942763   4.71025549\n",
      "   5.38024336  67.91300915   4.6983082   45.14624271   8.42121306\n",
      "  21.64435487  67.79358556   5.85707754   5.85065462  95.41828001\n",
      " 164.98102936  43.0821326    6.27763303  30.49100693  42.04842799\n",
      "  43.1262751   38.28879453   4.42782835  40.9024825    6.73161317\n",
      "   6.82359147   6.70707656  62.88048913   6.17832106  33.74021673\n",
      "  49.72078183  50.93208782  41.36013683  35.39266946   7.21372044\n",
      "   3.69113033  23.66493493  38.62702991   7.00360489  68.06934273\n",
      "   6.05753465 200.76362704  66.39368675  49.11464313   6.03953407\n",
      "  52.65638581   4.8559576   62.63824862  74.29350703  59.53130644\n",
      "  37.43843362  54.34517225   5.68690806  49.11330702  38.4083575\n",
      "  45.36246164  39.3142596    5.65668565 151.09795018]\n"
     ]
    }
   ],
   "source": [
    "print(predicted)"
   ]
  },
  {
   "cell_type": "code",
   "execution_count": 33,
   "metadata": {},
   "outputs": [],
   "source": [
    "data1 = pd.DataFrame({'Actual': y_test.flatten(), 'Predicted' : predicted.flatten()})"
   ]
  },
  {
   "cell_type": "code",
   "execution_count": 34,
   "metadata": {},
   "outputs": [
    {
     "data": {
      "text/html": [
       "<div>\n",
       "<style scoped>\n",
       "    .dataframe tbody tr th:only-of-type {\n",
       "        vertical-align: middle;\n",
       "    }\n",
       "\n",
       "    .dataframe tbody tr th {\n",
       "        vertical-align: top;\n",
       "    }\n",
       "\n",
       "    .dataframe thead th {\n",
       "        text-align: right;\n",
       "    }\n",
       "</style>\n",
       "<table border=\"1\" class=\"dataframe\">\n",
       "  <thead>\n",
       "    <tr style=\"text-align: right;\">\n",
       "      <th></th>\n",
       "      <th>Actual</th>\n",
       "      <th>Predicted</th>\n",
       "    </tr>\n",
       "  </thead>\n",
       "  <tbody>\n",
       "    <tr>\n",
       "      <th>0</th>\n",
       "      <td>36.903999</td>\n",
       "      <td>37.478809</td>\n",
       "    </tr>\n",
       "    <tr>\n",
       "      <th>1</th>\n",
       "      <td>5.278000</td>\n",
       "      <td>5.388071</td>\n",
       "    </tr>\n",
       "    <tr>\n",
       "      <th>2</th>\n",
       "      <td>35.066002</td>\n",
       "      <td>34.508804</td>\n",
       "    </tr>\n",
       "    <tr>\n",
       "      <th>3</th>\n",
       "      <td>6.454000</td>\n",
       "      <td>6.635981</td>\n",
       "    </tr>\n",
       "    <tr>\n",
       "      <th>4</th>\n",
       "      <td>45.816002</td>\n",
       "      <td>46.114189</td>\n",
       "    </tr>\n",
       "    <tr>\n",
       "      <th>5</th>\n",
       "      <td>41.080002</td>\n",
       "      <td>40.762093</td>\n",
       "    </tr>\n",
       "    <tr>\n",
       "      <th>6</th>\n",
       "      <td>40.807999</td>\n",
       "      <td>40.973945</td>\n",
       "    </tr>\n",
       "    <tr>\n",
       "      <th>7</th>\n",
       "      <td>24.454000</td>\n",
       "      <td>24.211819</td>\n",
       "    </tr>\n",
       "    <tr>\n",
       "      <th>8</th>\n",
       "      <td>50.478001</td>\n",
       "      <td>50.748408</td>\n",
       "    </tr>\n",
       "    <tr>\n",
       "      <th>9</th>\n",
       "      <td>43.495998</td>\n",
       "      <td>43.010865</td>\n",
       "    </tr>\n",
       "    <tr>\n",
       "      <th>10</th>\n",
       "      <td>42.018002</td>\n",
       "      <td>42.375616</td>\n",
       "    </tr>\n",
       "    <tr>\n",
       "      <th>11</th>\n",
       "      <td>39.821999</td>\n",
       "      <td>38.925220</td>\n",
       "    </tr>\n",
       "    <tr>\n",
       "      <th>12</th>\n",
       "      <td>7.032000</td>\n",
       "      <td>6.974043</td>\n",
       "    </tr>\n",
       "    <tr>\n",
       "      <th>13</th>\n",
       "      <td>43.720001</td>\n",
       "      <td>43.929335</td>\n",
       "    </tr>\n",
       "    <tr>\n",
       "      <th>14</th>\n",
       "      <td>53.790001</td>\n",
       "      <td>54.548419</td>\n",
       "    </tr>\n",
       "    <tr>\n",
       "      <th>15</th>\n",
       "      <td>4.590000</td>\n",
       "      <td>4.635820</td>\n",
       "    </tr>\n",
       "    <tr>\n",
       "      <th>16</th>\n",
       "      <td>49.599998</td>\n",
       "      <td>49.535439</td>\n",
       "    </tr>\n",
       "    <tr>\n",
       "      <th>17</th>\n",
       "      <td>62.924000</td>\n",
       "      <td>62.255585</td>\n",
       "    </tr>\n",
       "    <tr>\n",
       "      <th>18</th>\n",
       "      <td>6.454000</td>\n",
       "      <td>6.538118</td>\n",
       "    </tr>\n",
       "    <tr>\n",
       "      <th>19</th>\n",
       "      <td>51.400002</td>\n",
       "      <td>50.876905</td>\n",
       "    </tr>\n",
       "  </tbody>\n",
       "</table>\n",
       "</div>"
      ],
      "text/plain": [
       "       Actual  Predicted\n",
       "0   36.903999  37.478809\n",
       "1    5.278000   5.388071\n",
       "2   35.066002  34.508804\n",
       "3    6.454000   6.635981\n",
       "4   45.816002  46.114189\n",
       "5   41.080002  40.762093\n",
       "6   40.807999  40.973945\n",
       "7   24.454000  24.211819\n",
       "8   50.478001  50.748408\n",
       "9   43.495998  43.010865\n",
       "10  42.018002  42.375616\n",
       "11  39.821999  38.925220\n",
       "12   7.032000   6.974043\n",
       "13  43.720001  43.929335\n",
       "14  53.790001  54.548419\n",
       "15   4.590000   4.635820\n",
       "16  49.599998  49.535439\n",
       "17  62.924000  62.255585\n",
       "18   6.454000   6.538118\n",
       "19  51.400002  50.876905"
      ]
     },
     "execution_count": 34,
     "metadata": {},
     "output_type": "execute_result"
    }
   ],
   "source": [
    "data1.head(20)"
   ]
  },
  {
   "cell_type": "code",
   "execution_count": 35,
   "metadata": {},
   "outputs": [],
   "source": [
    "from sklearn import preprocessing\n",
    "from sklearn import metrics"
   ]
  },
  {
   "cell_type": "markdown",
   "metadata": {},
   "source": [
    "### Calculating the Accuracy and Errors"
   ]
  },
  {
   "cell_type": "code",
   "execution_count": 37,
   "metadata": {},
   "outputs": [
    {
     "name": "stdout",
     "output_type": "stream",
     "text": [
      "Accuracy score of the predictions: 0.999700595009277\n"
     ]
    }
   ],
   "source": [
    "from sklearn.metrics import r2_score\n",
    "print(\"Accuracy score of the predictions: {0}\".format(r2_score(y_test, predicted.flatten())))"
   ]
  },
  {
   "cell_type": "code",
   "execution_count": 38,
   "metadata": {},
   "outputs": [
    {
     "name": "stdout",
     "output_type": "stream",
     "text": [
      "Mean Absolute Error: 0.4513383670769388\n",
      "Mean Squared Error: 0.8312963055576927\n",
      "Root Mean Squared Error: 0.9117545204481812\n"
     ]
    }
   ],
   "source": [
    "import math\n",
    "print('Mean Absolute Error:', metrics.mean_absolute_error(y_test,predicted))\n",
    "print('Mean Squared Error:', metrics.mean_squared_error(y_test,predicted))\n",
    "print('Root Mean Squared Error:', math.sqrt(metrics.mean_squared_error(y_test,predicted)))"
   ]
  },
  {
   "cell_type": "code",
   "execution_count": 39,
   "metadata": {},
   "outputs": [],
   "source": [
    "graph = data1.head(20)"
   ]
  },
  {
   "cell_type": "markdown",
   "metadata": {},
   "source": [
    "### Plotting bar graph for the actual values vs predicted values"
   ]
  },
  {
   "cell_type": "code",
   "execution_count": 40,
   "metadata": {},
   "outputs": [
    {
     "data": {
      "text/plain": [
       "<AxesSubplot:>"
      ]
     },
     "execution_count": 40,
     "metadata": {},
     "output_type": "execute_result"
    },
    {
     "data": {
      "image/png": "[encoded data removed]",
      "text/plain": [
       "<Figure size 432x288 with 1 Axes>"
      ]
     },
     "metadata": {
      "needs_background": "light"
     },
     "output_type": "display_data"
    }
   ],
   "source": [
    "graph.plot(kind='bar')"
   ]
  },
  {
   "cell_type": "code",
   "execution_count": null,
   "metadata": {},
   "outputs": [],
   "source": []
  }
 ],
 "metadata": {
  "kernelspec": {
   "display_name": "Python 3",
   "language": "python",
   "name": "python3"
  },
  "language_info": {
   "codemirror_mode": {
    "name": "ipython",
    "version": 3
   },
   "file_extension": ".py",
   "mimetype": "text/x-python",
   "name": "python",
   "nbconvert_exporter": "python",
   "pygments_lexer": "ipython3",
   "version": "3.8.5"
  }
 },
 "nbformat": 4,
 "nbformat_minor": 4
}
